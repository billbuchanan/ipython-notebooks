{
 "cells": [
  {
   "cell_type": "markdown",
   "metadata": {},
   "source": [
    "# AUTHOR: Rajesh Bondugula"
   ]
  },
  {
   "cell_type": "code",
   "execution_count": 1,
   "metadata": {
    "collapsed": false
   },
   "outputs": [
    {
     "data": {
      "text/html": [
       "<style>\n",
       "body {\n",
       "    margin: 0;\n",
       "    font-family: Helvetica;\n",
       "}\n",
       "table.dataframe {\n",
       "    border-collapse: collapse;\n",
       "    border: none;\n",
       "}\n",
       "table.dataframe tr {\n",
       "    border: none;\n",
       "}\n",
       "table.dataframe td, table.dataframe th {\n",
       "    margin: 0;\n",
       "    border: 1px solid white;\n",
       "    padding-left: 0.25em;\n",
       "    padding-right: 0.25em;\n",
       "}\n",
       "table.dataframe th:not(:empty) {\n",
       "    background-color: #fec;\n",
       "    text-align: left;\n",
       "    font-weight: normal;\n",
       "}\n",
       "table.dataframe tr:nth-child(2) th:empty {\n",
       "    border-left: none;\n",
       "    border-right: 1px dashed #888;\n",
       "}\n",
       "table.dataframe td {\n",
       "    border: 2px solid #ccf;\n",
       "    background-color: #f4f4ff;\n",
       "}</style>"
      ],
      "text/plain": [
       "<IPython.core.display.HTML object>"
      ]
     },
     "execution_count": 1,
     "metadata": {},
     "output_type": "execute_result"
    }
   ],
   "source": [
    "# Import numpy and matplotlib modiules.\n",
    "import scipy.special as scp_spl\n",
    "import numpy as np\n",
    "import pandas as pd\n",
    "import matplotlib.pyplot as plt\n",
    "from scipy.optimize import fmin_bfgs\n",
    "%matplotlib inline\n",
    "\n",
    "from IPython.core.display import HTML\n",
    "pd.set_option('display.max_rows', 10)\n",
    "\n",
    "css =\"\"\"\n",
    "body {\n",
    "    margin: 0;\n",
    "    font-family: Helvetica;\n",
    "}\n",
    "table.dataframe {\n",
    "    border-collapse: collapse;\n",
    "    border: none;\n",
    "}\n",
    "table.dataframe tr {\n",
    "    border: none;\n",
    "}\n",
    "table.dataframe td, table.dataframe th {\n",
    "    margin: 0;\n",
    "    border: 1px solid white;\n",
    "    padding-left: 0.25em;\n",
    "    padding-right: 0.25em;\n",
    "}\n",
    "table.dataframe th:not(:empty) {\n",
    "    background-color: #fec;\n",
    "    text-align: left;\n",
    "    font-weight: normal;\n",
    "}\n",
    "table.dataframe tr:nth-child(2) th:empty {\n",
    "    border-left: none;\n",
    "    border-right: 1px dashed #888;\n",
    "}\n",
    "table.dataframe td {\n",
    "    border: 2px solid #ccf;\n",
    "    background-color: #f4f4ff;\n",
    "}\"\"\"\n",
    "\n",
    "HTML('<style>{}</style>'.format(css))\n"
   ]
  },
  {
   "cell_type": "markdown",
   "metadata": {},
   "source": [
    "## Sigmoid function\n",
    "\n",
    "- A sigmoid function is a mathematical function having an \"S\" shape (sigmoid curve).\n",
    "- It converts any real values number to a fraction in range (0 1) conviniently usable for probabilities.\n",
    "- It is real-valued and differentiable, having a non-negative or non-positive first derivative\n",
    "- It has one local minimum, and one local maximum.\n",
    "- Hence it gives the convex shape and hence finding minimum / maximum is easy with gradient descent or accent.\n",
    "- Center of Sigmoid occurs at x = 0 and the value is 0.5\n",
    "- Sigmoid function is given as follows\n",
    "\n",
    "$$\n",
    "h\\left(x\\right)=\\frac{1}{1 + e^{-x}}\n",
    "$$"
   ]
  },
  {
   "cell_type": "code",
   "execution_count": 2,
   "metadata": {
    "collapsed": false
   },
   "outputs": [
    {
     "data": {
      "image/png": "[encoded data removed]",
      "text/plain": [
       "<matplotlib.figure.Figure at 0x184fe0f0>"
      ]
     },
     "metadata": {},
     "output_type": "display_data"
    }
   ],
   "source": [
    "# plot the sigmoid function\n",
    "x = np.linspace(-10, 10, 100)\n",
    "y = scp_spl.expit(x) # y = 1 / (1 + np.exp(-x))\n",
    "plt.plot(x, y)\n",
    "plt.plot(0, scp_spl.expit(0), 'g.', markersize=15)\n",
    "plt.margins(0.04)\n",
    "plt.grid()\n",
    "plt.title(\"Sigmoid function\");"
   ]
  },
  {
   "cell_type": "markdown",
   "metadata": {},
   "source": [
    "## Logisic Regression\n",
    "\n",
    "- Logistic regression is actually a classification problem rather than regression.\n",
    "- This algorithm takes inputs based on features (real numbers) and ouputs target classes {0, 1, 2, 3, 4 ...}\n",
    "- In binary classification target = {0, 1}\n",
    "\n",
    "#### Linear regression\n",
    "\n",
    "- In Linear regression we find the best fit line on the input training data and calculate the parameters.\n",
    "- New sample to be predicted is fed into the equation to get the predicted value.\n",
    "- Below is the question for linear regression. Theta is a parameter vector obtained when algorithm is run on the training set.\n",
    "\n",
    "$$\n",
    "h_{\\theta}\\left(x\\right)=\\theta^{T}x\n",
    "$$\n",
    "\n",
    "#### Binary Logistic regression\n",
    "- In binary classification there aew two targets {0, 1}.\n",
    "- One crude way is construct linear regression line and use threshold to separate the classes.\n",
    "- But this will not give proper results because linear regression predicts real numbers so we have values < 0 and > 1 also.\n",
    "- We use sigmoid function (also known as logistic function) to convert the values to (0 1) and treat them as probabilities for prediciton.\n",
    "\n",
    "$$\n",
    "h_{\\theta}\\left(x\\right)=\\frac{1}{1 + e^{-\\theta^{T}x}}\n",
    "$$\n",
    "\n",
    "- Probability of sample is:\n",
    "$$\n",
    "p\\left(y=1\\mid x; \\theta\\right) = h_{\\theta}\\left(x\\right) \\\\ \\:\\\\\n",
    "p\\left(y=0\\mid x; \\theta\\right) = 1 - h_{\\theta}\\left(x\\right)\n",
    "$$\n",
    "\n",
    "- This is the prediction condition\n",
    "$$\n",
    "Y = \n",
    "\\begin{cases}\n",
    "1 \\: if \\: h_{\\theta}\\left(x\\right) \\ge 0.5 \\\\\n",
    "0 \\: if \\: h_{\\theta}\\left(x\\right) < 0.5 \\\\\n",
    "\\end{cases}\n",
    "$$\n",
    "\n",
    "- Alternatively\n",
    "$$\n",
    "Y = \n",
    "\\begin{cases}\n",
    "1 \\: if \\: \\theta^{T}x \\ge 0 \\\\\n",
    "0 \\: if \\: \\theta^{T}x < 0 \\\\\n",
    "\\end{cases}\n",
    "$$\n",
    "\n",
    "- Decision boundary\n",
    "$$\n",
    "\\theta^{T}x = 0\n",
    "$$"
   ]
  },
  {
   "cell_type": "code",
   "execution_count": null,
   "metadata": {
    "collapsed": true
   },
   "outputs": [],
   "source": []
  },
  {
   "cell_type": "markdown",
   "metadata": {},
   "source": [
    "## Cost Function\n",
    "\n",
    "- Cost is nothing but the error rate between actual and predicted values.\n",
    "- The cost funciton for linear regression uses sum of squared differences function.\n",
    "- For logistic regression the same cost function cannot be used because it will not be a convex function.\n",
    "- It would be a complex function wuth multiple local minimum because of h(x) being sigmoid\n",
    "- Hence we use the below function to have the convex shape so as to have 1 global minimum.\n",
    "\n",
    "$$\n",
    "J\\left(\\theta\\right) =\\begin{cases}-log\\left(h_{\\theta}\\left(x^{(i)}\\right)\\right) if \\: y = 1\\\\ \\: \\\\ -log\\left(1-h_{\\theta}\\left(x^{(i)}\\right)\\right) if \\: y = 0\\\\ \\end{cases}\n",
    "$$\n",
    "- The above cost function canbe combined as:\n",
    "$$\n",
    "J\\left(\\theta\\right) = \\frac{1}{m}\\sum_{i=1}^{m} \\left[-y^{(i)}log\\left(h_{\\theta}\\left(x^{(i)}\\right)\\right) -\\left(1-y^{(i)}\\right)log\\left(1-h_{\\theta}\\left(x^{(i)}\\right)\\right) \\right] \\\\ x^{\\left(i\\right)} is \\: the \\: i^{th} sample \\: of \\: x\n",
    "$$\n",
    "\n"
   ]
  },
  {
   "cell_type": "code",
   "execution_count": 3,
   "metadata": {
    "collapsed": true
   },
   "outputs": [],
   "source": [
    "def calculate_cost(theta, X, y):\n",
    "    \"\"\"The function returns the cost of the logistic regression\n",
    "\n",
    "       X     : Input array mxn. m rows are number of samples and n features for each sample.\n",
    "       y     : Original class of the input\n",
    "       theta : training parameters\n",
    "    \"\"\"\n",
    "    # Get number of rows\n",
    "    m = X.shape[0]\n",
    "\n",
    "    # Convert y and theta into vectors.\n",
    "    y = np.array(y).reshape(len(y), 1)\n",
    "    theta = np.array(theta).reshape(len(theta), 1)\n",
    "\n",
    "    # Append ones as first column to input matrix X.\n",
    "    # This is because theta is (n + 1) x 1 due to the intercept.\n",
    "    # The feature value for intercept is 1.\n",
    "    X = np.column_stack([np.ones(m), X])\n",
    "\n",
    "    # Calculate the h(x)\n",
    "    h = scp_spl.expit(np.dot(X, theta))\n",
    "\n",
    "    # Due the precision constraints, value close to 1 is rounded to 1 and hence log(1-h) is not defined.\n",
    "    # We adjust the presision so that log is valid.\n",
    "    # We pick a small value for which precision is retained. exp(-37) is found by trial and error method.\n",
    "    # We make sure that none of the values neither 0 nor 1.\n",
    "    precisoin_adjust_value = np.exp(-37)\n",
    "\n",
    "    h = np.where(h == 1, 1 - precisoin_adjust_value, h)\n",
    "    h = np.where(h == 0, precisoin_adjust_value, h)\n",
    "\n",
    "    # Calculate the cost\n",
    "    J = sum(-y * np.log(h) - (1 - y) * np.log(1 - h)) / m\n",
    "    return J[0]"
   ]
  },
  {
   "cell_type": "markdown",
   "metadata": {},
   "source": [
    "## Gradient descent\n",
    "\n",
    "- Gradient descent is a first-order optimization algorithm.\n",
    "- To find a local minimum of a function using gradient descent, one takes steps proportional to the negative of the gradient of the function at the current point.\n",
    "- Gradient of a point on the curve gives the tangent to that point.\n",
    "\n",
    "$$\n",
    "\\theta_j := \\theta_j - \\alpha \\bigtriangledown _\\theta J \\left( \\theta \\right) \\\\ \\: \\\\ J \\left( \\theta \\right) is \\: the \\: cost \\: function. \\\\ \\alpha \\: is \\: the \\: learning \\: rate.\n",
    "$$\n",
    "\n",
    "#### Procedure\n",
    "- We start with some initial theta and then calculate the gradient at that point.\n",
    "- Gradient gives the direction of minimum.\n",
    "- alpha gives the step length in that direction.\n",
    "- Update theta by reducing small fraction in that direction.\n",
    "- The procedure is performed iteraively until the cost is minimum.\n",
    "- The convergence is said to have occured if there is not change in cost for few consecutive iterations.\n",
    "- If alpha is very small then it takes long time to converge.\n",
    "- If alpha is large then it may overshoot and may never converge.\n",
    "- It is important to choose alpha properly.\n",
    "- Often chosed by plotting cost over iterations."
   ]
  },
  {
   "cell_type": "code",
   "execution_count": null,
   "metadata": {
    "collapsed": true
   },
   "outputs": [],
   "source": []
  },
  {
   "cell_type": "markdown",
   "metadata": {},
   "source": [
    "## Gradient function\n",
    "\n",
    "- Given the cost function, we must minimize the cost function and find optimum parameters that give least error on training data\n",
    "- We calculate the gradient function as first derivative of cost function w.r.t each parameter.\n",
    "- We use this function in gradient descent to find the parameters that have minimum cost.\n",
    "- The following function is the gradient function for logistic regression\n",
    "\n",
    "$$\n",
    "    \\theta_j := \\theta_j - \\alpha \\frac{1}{m} \\sum_{i = 1}^{m} \\left( h_\\theta \\left( x^{(i)} \\right) - y^{(i)} \\right) x_j^{(i)}\n",
    "$$\n",
    "\n",
    "- The above gradient function looks similar to the gradient function of linear regression. However the h(x) is a sigmoid in logistic regression."
   ]
  },
  {
   "cell_type": "code",
   "execution_count": 4,
   "metadata": {
    "collapsed": true
   },
   "outputs": [],
   "source": [
    "def calculate_gradient(theta, X, y):\n",
    "    \"\"\"Calculate the gradient of cost function at theta\"\"\"\n",
    "\n",
    "    # Get number of rows\n",
    "    m = X.shape[0]\n",
    "\n",
    "    # Convert y and theta into vectors.\n",
    "    y = np.array(y).reshape(len(y), 1)\n",
    "    theta = np.array(theta).reshape(len(theta), 1)\n",
    "\n",
    "    # Append ones as first column to input matrix X.\n",
    "    # This is because theta is (n + 1) x 1 due to the intercept.\n",
    "    # The feature value for intercept is 1.\n",
    "    X = np.column_stack([np.ones(m), X])\n",
    "\n",
    "    # Calculate the h(x)\n",
    "    h_y = scp_spl.expit(np.dot(X, theta)) - y\n",
    "    grad = sum(h_y.repeat(X.shape[1], axis=1) * X) / m\n",
    "\n",
    "    return grad"
   ]
  },
  {
   "cell_type": "markdown",
   "metadata": {},
   "source": [
    "## Tuning model parameters. Using BFGS\n",
    "\n",
    "- There are many ways to minimize the cost function and find the model parameters\n",
    "- Gradient descent is one of the procedure. However selection of alpha is challenging.\n",
    "- There are few other algorithms like **Broyden–Fletcher–Goldfarb–Shanno (BFGS) and Low-memory Broyden–Fletcher–Goldfarb–Shanno (L-BFGS)** can also be used.\n",
    "- There are efficient then gradient descent but complex to understand.\n",
    "- These are generic algorithms are needs functions for calculating cost and gradient as input.\n",
    "- we use **fmin_bfgs** from **scipy** to find the minimum of the function."
   ]
  },
  {
   "cell_type": "code",
   "execution_count": 5,
   "metadata": {
    "collapsed": true
   },
   "outputs": [],
   "source": [
    "# perform BFGS and find the parameters that minimize the function.\n",
    "def get_model_parameters(X, y):\n",
    "    def f(theta):\n",
    "        \"\"\"\"\"\"\n",
    "        return calculate_cost(theta, X, y)\n",
    "\n",
    "    def fprime(theta):\n",
    "        return calculate_gradient(theta, X, y)\n",
    "\n",
    "    # Initial theta assigned to 0\n",
    "    theta = np.zeros(3)\n",
    "\n",
    "    return fmin_bfgs(f, theta, fprime, disp=True, maxiter=400)"
   ]
  },
  {
   "cell_type": "markdown",
   "metadata": {},
   "source": [
    "## Example: Admission classification\n",
    "\n",
    "Suppose that you are the administrator of a university department and you want to determine each applicant's chance of admission based on their results on two exams. You have historical data from previous applicants that you can use as a training set for logistic regression. For each training example, you have the applicant's scores on two exams and the admissions decision.\n",
    "Your task is to build a classication model that estimates an applicant's probability of admission based the scores from those two exams.\n",
    "\n",
    "1. Input features: score1, score2 of two exams\n",
    "2. Target: {0, 1} 0 if not admitted, 1 if admitted"
   ]
  },
  {
   "cell_type": "markdown",
   "metadata": {},
   "source": [
    "### 1. Data load form file"
   ]
  },
  {
   "cell_type": "code",
   "execution_count": 6,
   "metadata": {
    "collapsed": false
   },
   "outputs": [
    {
     "data": {
      "text/html": [
       "<div>\n",
       "<table border=\"1\" class=\"dataframe\">\n",
       "  <thead>\n",
       "    <tr style=\"text-align: right;\">\n",
       "      <th></th>\n",
       "      <th>score1</th>\n",
       "      <th>score2</th>\n",
       "      <th>admitted</th>\n",
       "    </tr>\n",
       "  </thead>\n",
       "  <tbody>\n",
       "    <tr>\n",
       "      <th>0</th>\n",
       "      <td>34.623660</td>\n",
       "      <td>78.024693</td>\n",
       "      <td>0</td>\n",
       "    </tr>\n",
       "    <tr>\n",
       "      <th>1</th>\n",
       "      <td>30.286711</td>\n",
       "      <td>43.894998</td>\n",
       "      <td>0</td>\n",
       "    </tr>\n",
       "    <tr>\n",
       "      <th>2</th>\n",
       "      <td>35.847409</td>\n",
       "      <td>72.902198</td>\n",
       "      <td>0</td>\n",
       "    </tr>\n",
       "    <tr>\n",
       "      <th>3</th>\n",
       "      <td>60.182599</td>\n",
       "      <td>86.308552</td>\n",
       "      <td>1</td>\n",
       "    </tr>\n",
       "    <tr>\n",
       "      <th>4</th>\n",
       "      <td>79.032736</td>\n",
       "      <td>75.344376</td>\n",
       "      <td>1</td>\n",
       "    </tr>\n",
       "    <tr>\n",
       "      <th>...</th>\n",
       "      <td>...</td>\n",
       "      <td>...</td>\n",
       "      <td>...</td>\n",
       "    </tr>\n",
       "    <tr>\n",
       "      <th>95</th>\n",
       "      <td>83.489163</td>\n",
       "      <td>48.380286</td>\n",
       "      <td>1</td>\n",
       "    </tr>\n",
       "    <tr>\n",
       "      <th>96</th>\n",
       "      <td>42.261701</td>\n",
       "      <td>87.103851</td>\n",
       "      <td>1</td>\n",
       "    </tr>\n",
       "    <tr>\n",
       "      <th>97</th>\n",
       "      <td>99.315009</td>\n",
       "      <td>68.775409</td>\n",
       "      <td>1</td>\n",
       "    </tr>\n",
       "    <tr>\n",
       "      <th>98</th>\n",
       "      <td>55.340018</td>\n",
       "      <td>64.931938</td>\n",
       "      <td>1</td>\n",
       "    </tr>\n",
       "    <tr>\n",
       "      <th>99</th>\n",
       "      <td>74.775893</td>\n",
       "      <td>89.529813</td>\n",
       "      <td>1</td>\n",
       "    </tr>\n",
       "  </tbody>\n",
       "</table>\n",
       "<p>100 rows × 3 columns</p>\n",
       "</div>"
      ],
      "text/plain": [
       "       score1     score2  admitted\n",
       "0   34.623660  78.024693         0\n",
       "1   30.286711  43.894998         0\n",
       "2   35.847409  72.902198         0\n",
       "3   60.182599  86.308552         1\n",
       "4   79.032736  75.344376         1\n",
       "..        ...        ...       ...\n",
       "95  83.489163  48.380286         1\n",
       "96  42.261701  87.103851         1\n",
       "97  99.315009  68.775409         1\n",
       "98  55.340018  64.931938         1\n",
       "99  74.775893  89.529813         1\n",
       "\n",
       "[100 rows x 3 columns]"
      ]
     },
     "execution_count": 6,
     "metadata": {},
     "output_type": "execute_result"
    }
   ],
   "source": [
    "# Read the data into data frame.\n",
    "# Dataframe gives better access and view.\n",
    "data = pd.read_csv('ex2data1.txt', header=None, names=['score1', 'score2', 'admitted'])\n",
    "X = data.values[:, 0:2]\n",
    "y = data.values[:, 2]\n",
    "data"
   ]
  },
  {
   "cell_type": "markdown",
   "metadata": {},
   "source": [
    "### 2. Data visualization"
   ]
  },
  {
   "cell_type": "code",
   "execution_count": 7,
   "metadata": {
    "collapsed": false
   },
   "outputs": [
    {
     "data": {
      "image/png": "[encoded data removed]",
      "text/plain": [
       "<matplotlib.figure.Figure at 0x3d69358>"
      ]
     },
     "metadata": {},
     "output_type": "display_data"
    }
   ],
   "source": [
    "# Plot the data to have a look at the distributon.\n",
    "data.plot.scatter(x='score1', y='score2', c='admitted', cmap='Oranges', \\\n",
    "                  s=50, grid=True, title=\"Scores vs admission status\", figsize=(10, 6));"
   ]
  },
  {
   "cell_type": "markdown",
   "metadata": {},
   "source": [
    "### 3. Calculate cost and gradient for default parameters"
   ]
  },
  {
   "cell_type": "code",
   "execution_count": 8,
   "metadata": {
    "collapsed": false
   },
   "outputs": [
    {
     "data": {
      "text/plain": [
       "0.69314718055994584"
      ]
     },
     "execution_count": 8,
     "metadata": {},
     "output_type": "execute_result"
    }
   ],
   "source": [
    "# Find cost at initial theta.\n",
    "# Initial theta is zeros.\n",
    "calculate_cost(np.zeros((3, 1)), X, y)"
   ]
  },
  {
   "cell_type": "code",
   "execution_count": 9,
   "metadata": {
    "collapsed": false
   },
   "outputs": [
    {
     "data": {
      "text/plain": [
       "array([ -0.1       , -12.00921659, -11.26284221])"
      ]
     },
     "execution_count": 9,
     "metadata": {},
     "output_type": "execute_result"
    }
   ],
   "source": [
    "# Find gradient at initial theta.\n",
    "# Initial theta is zeros.\n",
    "calculate_gradient(np.zeros((3, 1)), X, y)"
   ]
  },
  {
   "cell_type": "markdown",
   "metadata": {},
   "source": [
    "### 4. Perform BFGS on the data to obtain optimum parameters"
   ]
  },
  {
   "cell_type": "code",
   "execution_count": 10,
   "metadata": {
    "collapsed": false
   },
   "outputs": [
    {
     "name": "stdout",
     "output_type": "stream",
     "text": [
      "Optimization terminated successfully.\n",
      "         Current function value: 0.203498\n",
      "         Iterations: 25\n",
      "         Function evaluations: 33\n",
      "         Gradient evaluations: 33\n"
     ]
    },
    {
     "data": {
      "text/plain": [
       "array([-25.16132721,   0.20623168,   0.20147154])"
      ]
     },
     "execution_count": 10,
     "metadata": {},
     "output_type": "execute_result"
    }
   ],
   "source": [
    "tuned_theta = get_model_parameters(X, y)\n",
    "tuned_theta"
   ]
  },
  {
   "cell_type": "markdown",
   "metadata": {},
   "source": [
    "### 5. Plot the decision boundary\n",
    "\n",
    "- Decision boundary is given as below:\n",
    "\n",
    "$$\n",
    "\\theta^{T}x = 0 \\\\ \\: \\\\\n",
    "For \\: a\\: bivariate \\: model \\: \\theta^{T}x = \\theta_0x_0 + \\theta_1x_1 + \\theta_2x_2 \\: \\left[Also \\: x_0 \\: is \\: 1\\right]\n",
    "$$\n",
    "- Rearranging terms from above equation we get:\n",
    "$$\n",
    "x_2 = \\frac{-\\left( \\theta_0 + \\theta_1x_1\\right)}{\\theta_2}\n",
    "$$"
   ]
  },
  {
   "cell_type": "code",
   "execution_count": 11,
   "metadata": {
    "collapsed": false
   },
   "outputs": [
    {
     "data": {
      "image/png": "[encoded data removed]",
      "text/plain": [
       "<matplotlib.figure.Figure at 0x1bf75390>"
      ]
     },
     "metadata": {},
     "output_type": "display_data"
    }
   ],
   "source": [
    "# Plot the decision boundary\n",
    "data.plot.scatter(x='score1', y='score2', c='admitted', cmap='Oranges', \\\n",
    "                  s=50, grid=True, title=\"Scores vs admission status\", figsize=(10, 6));\n",
    "\n",
    "# For plotting the boundary line we need two end points.\n",
    "# Take the min and max of x1 and calcualte x2\n",
    "x1 = np.array([min(X[:, 0]), max(X[:, 1])])\n",
    "x2 = -(tuned_theta[0] + tuned_theta[1]*x1) / tuned_theta[2]\n",
    "plt.plot(x1, x2, color='g', lw=3);"
   ]
  },
  {
   "cell_type": "markdown",
   "metadata": {},
   "source": [
    "### 6. Perform the prediciton on the data\n",
    "\n",
    "- As mentione above this is the prediction condition\n",
    "$$\n",
    "Y = \n",
    "\\begin{cases}\n",
    "1 \\: if \\: h_{\\theta}\\left(x\\right) \\ge 0.5 \\\\\n",
    "0 \\: if \\: h_{\\theta}\\left(x\\right) < 0.5 \\\\\n",
    "\\end{cases}\n",
    "$$\n",
    "\n",
    "- Alternatively\n",
    "$$\n",
    "Y = \n",
    "\\begin{cases}\n",
    "1 \\: if \\: \\theta^{T}x \\ge 0 \\\\\n",
    "0 \\: if \\: \\theta^{T}x < 0 \\\\\n",
    "\\end{cases}\n",
    "$$"
   ]
  },
  {
   "cell_type": "code",
   "execution_count": 12,
   "metadata": {
    "collapsed": true
   },
   "outputs": [],
   "source": [
    "def predict(X, theta):\n",
    "\n",
    "    # Get number of rows\n",
    "    m = X.shape[0]\n",
    "\n",
    "    # Convert theta into vectors.\n",
    "    theta = np.array(theta).reshape(len(theta), 1)\n",
    "\n",
    "    # Append ones as first column to input matrix X.\n",
    "    # This is because theta is (n + 1) x 1 due to the intercept.\n",
    "    # The feature value for intercept is 1.\n",
    "    X = np.column_stack([np.ones(m), X])\n",
    "    \n",
    "    # Return as class 1 if the value > 0 else return 0\n",
    "    return np.where(np.dot(X, theta) >= 0, 1, 0).flatten()"
   ]
  },
  {
   "cell_type": "code",
   "execution_count": 13,
   "metadata": {
    "collapsed": false
   },
   "outputs": [
    {
     "name": "stdout",
     "output_type": "stream",
     "text": [
      "Prediction score =  89.0 %\n"
     ]
    }
   ],
   "source": [
    "predicted_y = predict(X, tuned_theta)\n",
    "print \"Prediction score = \", sum(predicted_y == y)*100/float(len(y)), \"%\""
   ]
  },
  {
   "cell_type": "code",
   "execution_count": null,
   "metadata": {
    "collapsed": true
   },
   "outputs": [],
   "source": []
  }
 ],
 "metadata": {
  "kernelspec": {
   "display_name": "Python 2",
   "language": "python",
   "name": "python2"
  },
  "language_info": {
   "codemirror_mode": {
    "name": "ipython",
    "version": 2
   },
   "file_extension": ".py",
   "mimetype": "text/x-python",
   "name": "python",
   "nbconvert_exporter": "python",
   "pygments_lexer": "ipython2",
   "version": "2.7.11"
  }
 },
 "nbformat": 4,
 "nbformat_minor": 0
}
