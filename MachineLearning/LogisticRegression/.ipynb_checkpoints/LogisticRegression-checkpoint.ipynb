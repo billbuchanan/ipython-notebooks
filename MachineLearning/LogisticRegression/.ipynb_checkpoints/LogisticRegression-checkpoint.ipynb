{
 "cells": [
  {
   "cell_type": "markdown",
   "metadata": {},
   "source": [
    "# AUTHOR: Rajesh Bondugula"
   ]
  },
  {
   "cell_type": "markdown",
   "metadata": {},
   "source": [
    "### Sigmoid function\n",
    "\n",
    "- A sigmoid function is a mathematical function having an \"S\" shape (sigmoid curve).\n",
    "- It converts any real values number to a fraction in range (0 1) conviniently usable for probabilities.\n",
    "- It is real-valued and differentiable, having a non-negative or non-positive first derivative\n",
    "- It has one local minimum, and one local maximum.\n",
    "- Hence it gives the convex shape and hence finding minimum / maximum is easy with gradient descent or accent.\n",
    "- Center of Sigmoid occurs at x = 0 and the value is 0.5\n",
    "- Sigmoid function is given as follows\n",
    "\n",
    "$$\n",
    "h\\left(x\\right)=\\frac{1}{1 + e^{-x}}\n",
    "$$"
   ]
  },
  {
   "cell_type": "code",
   "execution_count": 9,
   "metadata": {
    "collapsed": true
   },
   "outputs": [],
   "source": [
    "# Import numpy and matplotlib modiules.\n",
    "import scipy.special as scp_spl\n",
    "import numpy as np\n",
    "import matplotlib.pyplot as plt\n",
    "%matplotlib inline"
   ]
  },
  {
   "cell_type": "code",
   "execution_count": 28,
   "metadata": {
    "collapsed": false
   },
   "outputs": [
    {
     "data": {
      "text/plain": [
       "<matplotlib.text.Text at 0x1878f550>"
      ]
     },
     "execution_count": 28,
     "metadata": {},
     "output_type": "execute_result"
    },
    {
     "data": {
      "image/png": "[encoded data removed]",
      "text/plain": [
       "<matplotlib.figure.Figure at 0x1764f518>"
      ]
     },
     "metadata": {},
     "output_type": "display_data"
    }
   ],
   "source": [
    "# plot the sigmoid function\n",
    "x = np.linspace(-10, 10, 100)\n",
    "y = scp_spl.expit(x) # y = 1 / (1 + np.exp(-x))\n",
    "plt.plot(x, y)\n",
    "plt.plot(0, scp_spl.expit(0), 'g.', markersize=15)\n",
    "plt.margins(0.04)\n",
    "plt.grid()\n",
    "plt.title(\"Sigmoid function\")\n"
   ]
  },
  {
   "cell_type": "code",
   "execution_count": null,
   "metadata": {
    "collapsed": true
   },
   "outputs": [],
   "source": []
  }
 ],
 "metadata": {
  "kernelspec": {
   "display_name": "Python 2",
   "language": "python",
   "name": "python2"
  },
  "language_info": {
   "codemirror_mode": {
    "name": "ipython",
    "version": 2
   },
   "file_extension": ".py",
   "mimetype": "text/x-python",
   "name": "python",
   "nbconvert_exporter": "python",
   "pygments_lexer": "ipython2",
   "version": "2.7.11"
  }
 },
 "nbformat": 4,
 "nbformat_minor": 0
}
